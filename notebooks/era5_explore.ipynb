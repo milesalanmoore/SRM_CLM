{
 "cells": [
  {
   "cell_type": "code",
   "execution_count": 1,
   "id": "103ac97c-8305-432e-ba55-d08609cab798",
   "metadata": {},
   "outputs": [],
   "source": [
    "import xarray as xr"
   ]
  },
  {
   "cell_type": "code",
   "execution_count": null,
   "id": "595e77eb-c0ab-44a2-91b9-a0ca885d61f2",
   "metadata": {},
   "outputs": [],
   "source": [
    "fn_era = \"\""
   ]
  }
 ],
 "metadata": {
  "kernelspec": {
   "display_name": "Python [conda env:.conda-nwt_clm]",
   "language": "python",
   "name": "conda-env-.conda-nwt_clm-py"
  },
  "language_info": {
   "codemirror_mode": {
    "name": "ipython",
    "version": 3
   },
   "file_extension": ".py",
   "mimetype": "text/x-python",
   "name": "python",
   "nbconvert_exporter": "python",
   "pygments_lexer": "ipython3",
   "version": "3.12.0"
  }
 },
 "nbformat": 4,
 "nbformat_minor": 5
}
