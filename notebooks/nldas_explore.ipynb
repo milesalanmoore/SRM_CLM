{
 "cells": [
  {
   "cell_type": "code",
   "execution_count": 1,
   "id": "1eced3c4-e7f2-4863-88a9-d83255f036e9",
   "metadata": {},
   "outputs": [
    {
     "name": "stdout",
     "output_type": "stream",
     "text": [
      " NLDAS ATM forcing data dir contents:\n",
      " ['Solar', 'ctsmforc.NLDAS2.cdf5.0.125d.v1.ESMFmesh_120620_c210330.nc', 'Precip', 'README_190425', 'TPQWL']\n"
     ]
    }
   ],
   "source": [
    "\"\"\"\n",
    "This is taking forever, besides... do I really just want a raster with mk.slope? I want some sort of seasonal decomposition of ppt trends by month (June, July, Aug).\n",
    "\n",
    "This would go a long way to reduce the size of the computations as well. But the lat/lon values are weird in this dataset as it's been reformated for cesm atm forcing.\n",
    "\"\"\"\n",
    "\n",
    "import os\n",
    "import xarray as xr\n",
    "import dask\n",
    "import pymannkendall as mk\n",
    "from dask.diagnostics import ProgressBar\n",
    "\n",
    "## Pathing ### ----------------\n",
    "# nldas_dir = \"/glade/campaign/cgd/tss/people/swensosc/\"\n",
    "cesm_forcing_dir = \"/glade/campaign/cesm/cesmdata/inputdata/\"\n",
    "nldas_dir = os.path.join(cesm_forcing_dir,\n",
    "                         \"atm/datm7/atm_forcing.datm7.NLDAS2.0.125d.v1\")\n",
    "print(f' NLDAS ATM forcing data dir contents:\\n {os.listdir(nldas_dir)}')\n",
    "\n",
    "ppt_dir = os.path.join(nldas_dir, \"Precip\")\n",
    "ppt_fns = [os.path.join(ppt_dir, fn) for fn in os.listdir(ppt_dir)]\n"
   ]
  },
  {
   "cell_type": "code",
   "execution_count": 2,
   "id": "7e68d9d4-c630-4ae1-bef7-69164058d3e7",
   "metadata": {},
   "outputs": [
    {
     "name": "stdout",
     "output_type": "stream",
     "text": [
      "Initializing dataset (lazy loading)...\n",
      "Finished lazy loading dataset!\n"
     ]
    }
   ],
   "source": [
    "# Open all files and preprocess nldas data to optimize memory\n",
    "from functools import partial\n",
    "\n",
    "# Function to preprocess each dataset by selecting a region and variable\n",
    "def _preprocess(ds, lon_bnds, lat_bnds):\n",
    "    ds = ds.sel(lon=slice(*lon_bnds), lat=slice(*lat_bnds))\n",
    "    return ds[['PRECTmms']]  # Only keep the 'PRECTmms' variable\n",
    "\n",
    "# Partially define function\n",
    "lon_bnds, lat_bnds = (100, 250), (75, 150)\n",
    "partial_func = partial(_preprocess, lon_bnds=lon_bnds, lat_bnds=lat_bnds)\n",
    "\n",
    "print('Initializing dataset (lazy loading)...')\n",
    "ds = xr.open_mfdataset(\n",
    "    ppt_fns, preprocess=partial_func, data_vars='minimal'\n",
    ").chunk({'time': -1, 'lat': 5, 'lon': 5})\n",
    "print('Finished lazy loading dataset!')\n"
   ]
  },
  {
   "cell_type": "code",
   "execution_count": null,
   "id": "bcbd4042-8bec-41a1-a1db-816b47dd14cc",
   "metadata": {
    "editable": true,
    "slideshow": {
     "slide_type": ""
    },
    "tags": []
   },
   "outputs": [
    {
     "name": "stdout",
     "output_type": "stream",
     "text": [
      "Computing MK...\n",
      "[##################################      ] | 85% Completed | 32m 39ss\n"
     ]
    }
   ],
   "source": [
    "\n",
    "# ds = xr.open_mfdataset(ppt_fns, combine='by_coords')\n",
    "# ds = ds.chunk({'time': -1, 'lat': 5, 'lon': 5})\n",
    "# print(ds['PRECTmms'])\n",
    "\n",
    "# Function to apply Mann-Kendall test pixel by pixel\n",
    "def mann_kendall_trend(x):\n",
    "    result = mk.original_test(x)\n",
    "    return result.slope  # Return the trend slope\n",
    "\n",
    "trend_mk = xr.apply_ufunc(\n",
    "    mann_kendall_trend, \n",
    "    ds['PRECTmms'], \n",
    "    vectorize=True, \n",
    "    input_core_dims=[['time']],\n",
    "    dask='parallelized',\n",
    "    output_dtypes=[float]\n",
    ")\n",
    "\n",
    "print('Computing MK...')\n",
    "with ProgressBar():\n",
    "    trend_mk_computed = trend_mk.compute()\n",
    "print('Done!') \n",
    "trend_mk_computed.to_netcdf('nldas_mk_trend_output.nc')\n",
    "print('Saved MK .nc file to nldas_mk_trend_output.nc') "
   ]
  },
  {
   "cell_type": "code",
   "execution_count": null,
   "id": "86e079b6-4504-40d8-906c-df7dbfef3447",
   "metadata": {},
   "outputs": [],
   "source": [
    "print(os.getcwd())"
   ]
  }
 ],
 "metadata": {
  "kernelspec": {
   "display_name": "Python [conda env:.conda-nwt_clm]",
   "language": "python",
   "name": "conda-env-.conda-nwt_clm-py"
  },
  "language_info": {
   "codemirror_mode": {
    "name": "ipython",
    "version": 3
   },
   "file_extension": ".py",
   "mimetype": "text/x-python",
   "name": "python",
   "nbconvert_exporter": "python",
   "pygments_lexer": "ipython3",
   "version": "3.12.0"
  }
 },
 "nbformat": 4,
 "nbformat_minor": 5
}
